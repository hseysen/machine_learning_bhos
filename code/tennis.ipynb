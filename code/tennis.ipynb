{
 "cells": [
  {
   "cell_type": "code",
   "execution_count": 1,
   "id": "f39b0656-f696-4ab7-9d28-7e1ef621bae3",
   "metadata": {},
   "outputs": [
    {
     "ename": "ModuleNotFoundError",
     "evalue": "No module named 'pandas'",
     "output_type": "error",
     "traceback": [
      "\u001b[1;31m---------------------------------------------------------------------------\u001b[0m",
      "\u001b[1;31mModuleNotFoundError\u001b[0m                       Traceback (most recent call last)",
      "Cell \u001b[1;32mIn[1], line 3\u001b[0m\n\u001b[0;32m      1\u001b[0m \u001b[38;5;66;03m# Imports\u001b[39;00m\n\u001b[0;32m      2\u001b[0m \u001b[38;5;28;01mimport\u001b[39;00m \u001b[38;5;21;01mnumpy\u001b[39;00m \u001b[38;5;28;01mas\u001b[39;00m \u001b[38;5;21;01mnp\u001b[39;00m\n\u001b[1;32m----> 3\u001b[0m \u001b[38;5;28;01mimport\u001b[39;00m \u001b[38;5;21;01mpandas\u001b[39;00m \u001b[38;5;28;01mas\u001b[39;00m \u001b[38;5;21;01mpd\u001b[39;00m\n",
      "\u001b[1;31mModuleNotFoundError\u001b[0m: No module named 'pandas'"
     ]
    }
   ],
   "source": [
    "# Imports\n",
    "import numpy as np\n",
    "import pandas as pd"
   ]
  },
  {
   "cell_type": "code",
   "execution_count": null,
   "id": "e8d21dac-618c-4ba1-8715-5e323e8e33f6",
   "metadata": {},
   "outputs": [],
   "source": [
    "data_path = r\"..\\data\\tennis.csv\""
   ]
  },
  {
   "cell_type": "code",
   "execution_count": null,
   "id": "621ee399-d1db-41d8-9a5a-4246f8a4fff8",
   "metadata": {},
   "outputs": [],
   "source": [
    "dataset = pd.read_csv(data_path)\n",
    "dataset"
   ]
  },
  {
   "cell_type": "code",
   "execution_count": null,
   "id": "4b097bdd-501b-407e-82c6-f33b7a915375",
   "metadata": {},
   "outputs": [],
   "source": [
    "probabilities = {}\n",
    "play_yes = dataset[\"Play\"] == \"Yes\"\n",
    "play_no = dataset[\"Play\"] == \"No\"\n",
    "total_yes = len(dataset[play_yes])\n",
    "total_no = len(dataset[play_no])\n",
    "\n",
    "for i in range(len(dataset.columns) - 1):\n",
    "    col = dataset.columns[i]\n",
    "    unique_vals = dataset[col].unique()\n",
    "    n_unique = len(unique_vals)\n",
    "    probabilities[col] = np.zeros((n_unique, 2))\n",
    "    for i in range(n_unique):\n",
    "        probabilities[col][i, 0] = len((dataset[(dataset[col] == unique_vals[i]) & (play_yes)])) / total_yes\n",
    "        probabilities[col][i, 1] = len((dataset[(dataset[col] == unique_vals[i]) & (play_no)])) / total_no"
   ]
  },
  {
   "cell_type": "code",
   "execution_count": null,
   "id": "33e58af5",
   "metadata": {},
   "outputs": [],
   "source": [
    "for i in range(len(dataset.columns) - 1):\n",
    "    col = dataset.columns[i]\n",
    "    print(col, *probabilities[col], \"\\n\", sep=\"\\n\")"
   ]
  },
  {
   "cell_type": "code",
   "execution_count": null,
   "id": "4d9bfc87",
   "metadata": {},
   "outputs": [],
   "source": []
  }
 ],
 "metadata": {
  "kernelspec": {
   "display_name": "Python 3 (ipykernel)",
   "language": "python",
   "name": "python3"
  },
  "language_info": {
   "codemirror_mode": {
    "name": "ipython",
    "version": 3
   },
   "file_extension": ".py",
   "mimetype": "text/x-python",
   "name": "python",
   "nbconvert_exporter": "python",
   "pygments_lexer": "ipython3",
   "version": "3.8.0"
  }
 },
 "nbformat": 4,
 "nbformat_minor": 5
}
